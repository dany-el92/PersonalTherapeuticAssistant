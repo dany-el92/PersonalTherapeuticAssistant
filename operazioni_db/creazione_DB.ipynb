{
 "cells": [
  {
   "cell_type": "code",
   "execution_count": 1,
   "metadata": {
    "collapsed": true,
    "ExecuteTime": {
     "end_time": "2024-06-08T11:35:32.988584Z",
     "start_time": "2024-06-08T11:35:32.416513Z"
    }
   },
   "outputs": [],
   "source": [
    "from pymongo import MongoClient\n",
    "import json"
   ]
  },
  {
   "cell_type": "code",
   "execution_count": 2,
   "outputs": [],
   "source": [
    "# Connessione a MongoDB\n",
    "client = MongoClient('mongodb://localhost:27017/')\n",
    "db = client['chatbot_db']\n",
    "patterns_collection = db['patterns']\n",
    "responses_collection = db['responses']"
   ],
   "metadata": {
    "collapsed": false,
    "ExecuteTime": {
     "end_time": "2024-06-08T11:35:33.009011Z",
     "start_time": "2024-06-08T11:35:32.989975Z"
    }
   }
  },
  {
   "cell_type": "code",
   "execution_count": 3,
   "outputs": [],
   "source": [
    "# Caricamento dei dati\n",
    "file_path = '../Dataset/intents_v2.json'\n",
    "with open(file_path, 'r') as f:\n",
    "    data = f.read()\n",
    "\n",
    "obj = json.loads(data)"
   ],
   "metadata": {
    "collapsed": false,
    "ExecuteTime": {
     "end_time": "2024-06-08T11:35:33.019962Z",
     "start_time": "2024-06-08T11:35:33.010664Z"
    }
   }
  },
  {
   "cell_type": "code",
   "execution_count": 4,
   "outputs": [
    {
     "data": {
      "text/plain": "InsertManyResult([ObjectId('666442057bc51a0b6b923fa1'), ObjectId('666442057bc51a0b6b923fa2'), ObjectId('666442057bc51a0b6b923fa3'), ObjectId('666442057bc51a0b6b923fa4'), ObjectId('666442057bc51a0b6b923fa5'), ObjectId('666442057bc51a0b6b923fa6'), ObjectId('666442057bc51a0b6b923fa7'), ObjectId('666442057bc51a0b6b923fa8'), ObjectId('666442057bc51a0b6b923fa9'), ObjectId('666442057bc51a0b6b923faa'), ObjectId('666442057bc51a0b6b923fab'), ObjectId('666442057bc51a0b6b923fac'), ObjectId('666442057bc51a0b6b923fad'), ObjectId('666442057bc51a0b6b923fae'), ObjectId('666442057bc51a0b6b923faf'), ObjectId('666442057bc51a0b6b923fb0'), ObjectId('666442057bc51a0b6b923fb1'), ObjectId('666442057bc51a0b6b923fb2'), ObjectId('666442057bc51a0b6b923fb3'), ObjectId('666442057bc51a0b6b923fb4'), ObjectId('666442057bc51a0b6b923fb5'), ObjectId('666442057bc51a0b6b923fb6'), ObjectId('666442057bc51a0b6b923fb7'), ObjectId('666442057bc51a0b6b923fb8'), ObjectId('666442057bc51a0b6b923fb9'), ObjectId('666442057bc51a0b6b923fba'), ObjectId('666442057bc51a0b6b923fbb'), ObjectId('666442057bc51a0b6b923fbc'), ObjectId('666442057bc51a0b6b923fbd'), ObjectId('666442057bc51a0b6b923fbe'), ObjectId('666442057bc51a0b6b923fbf'), ObjectId('666442057bc51a0b6b923fc0'), ObjectId('666442057bc51a0b6b923fc1'), ObjectId('666442057bc51a0b6b923fc2'), ObjectId('666442057bc51a0b6b923fc3'), ObjectId('666442057bc51a0b6b923fc4'), ObjectId('666442057bc51a0b6b923fc5'), ObjectId('666442057bc51a0b6b923fc6'), ObjectId('666442057bc51a0b6b923fc7'), ObjectId('666442057bc51a0b6b923fc8'), ObjectId('666442057bc51a0b6b923fc9'), ObjectId('666442057bc51a0b6b923fca'), ObjectId('666442057bc51a0b6b923fcb'), ObjectId('666442057bc51a0b6b923fcc'), ObjectId('666442057bc51a0b6b923fcd'), ObjectId('666442057bc51a0b6b923fce'), ObjectId('666442057bc51a0b6b923fcf'), ObjectId('666442057bc51a0b6b923fd0'), ObjectId('666442057bc51a0b6b923fd1'), ObjectId('666442057bc51a0b6b923fd2'), ObjectId('666442057bc51a0b6b923fd3'), ObjectId('666442057bc51a0b6b923fd4'), ObjectId('666442057bc51a0b6b923fd5'), ObjectId('666442057bc51a0b6b923fd6'), ObjectId('666442057bc51a0b6b923fd7'), ObjectId('666442057bc51a0b6b923fd8'), ObjectId('666442057bc51a0b6b923fd9'), ObjectId('666442057bc51a0b6b923fda'), ObjectId('666442057bc51a0b6b923fdb'), ObjectId('666442057bc51a0b6b923fdc'), ObjectId('666442057bc51a0b6b923fdd'), ObjectId('666442057bc51a0b6b923fde'), ObjectId('666442057bc51a0b6b923fdf'), ObjectId('666442057bc51a0b6b923fe0'), ObjectId('666442057bc51a0b6b923fe1'), ObjectId('666442057bc51a0b6b923fe2'), ObjectId('666442057bc51a0b6b923fe3'), ObjectId('666442057bc51a0b6b923fe4'), ObjectId('666442057bc51a0b6b923fe5'), ObjectId('666442057bc51a0b6b923fe6'), ObjectId('666442057bc51a0b6b923fe7'), ObjectId('666442057bc51a0b6b923fe8'), ObjectId('666442057bc51a0b6b923fe9'), ObjectId('666442057bc51a0b6b923fea'), ObjectId('666442057bc51a0b6b923feb'), ObjectId('666442057bc51a0b6b923fec'), ObjectId('666442057bc51a0b6b923fed'), ObjectId('666442057bc51a0b6b923fee'), ObjectId('666442057bc51a0b6b923fef'), ObjectId('666442057bc51a0b6b923ff0'), ObjectId('666442057bc51a0b6b923ff1'), ObjectId('666442057bc51a0b6b923ff2'), ObjectId('666442057bc51a0b6b923ff3'), ObjectId('666442057bc51a0b6b923ff4'), ObjectId('666442057bc51a0b6b923ff5'), ObjectId('666442057bc51a0b6b923ff6'), ObjectId('666442057bc51a0b6b923ff7')], acknowledged=True)"
     },
     "execution_count": 4,
     "metadata": {},
     "output_type": "execute_result"
    }
   ],
   "source": [
    "# Inserimento dei dati relativi ai pattern nel database\n",
    "patterns_collection.insert_many([{\"tag\": intent['tag'], \"patterns\": intent['patterns']} for intent in obj['intents']])"
   ],
   "metadata": {
    "collapsed": false,
    "ExecuteTime": {
     "end_time": "2024-06-08T11:35:33.129306Z",
     "start_time": "2024-06-08T11:35:33.018437Z"
    }
   }
  },
  {
   "cell_type": "code",
   "execution_count": 5,
   "outputs": [
    {
     "data": {
      "text/plain": "InsertManyResult([ObjectId('666442057bc51a0b6b923ff8'), ObjectId('666442057bc51a0b6b923ff9'), ObjectId('666442057bc51a0b6b923ffa'), ObjectId('666442057bc51a0b6b923ffb'), ObjectId('666442057bc51a0b6b923ffc'), ObjectId('666442057bc51a0b6b923ffd'), ObjectId('666442057bc51a0b6b923ffe'), ObjectId('666442057bc51a0b6b923fff'), ObjectId('666442057bc51a0b6b924000'), ObjectId('666442057bc51a0b6b924001'), ObjectId('666442057bc51a0b6b924002'), ObjectId('666442057bc51a0b6b924003'), ObjectId('666442057bc51a0b6b924004'), ObjectId('666442057bc51a0b6b924005'), ObjectId('666442057bc51a0b6b924006'), ObjectId('666442057bc51a0b6b924007'), ObjectId('666442057bc51a0b6b924008'), ObjectId('666442057bc51a0b6b924009'), ObjectId('666442057bc51a0b6b92400a'), ObjectId('666442057bc51a0b6b92400b'), ObjectId('666442057bc51a0b6b92400c'), ObjectId('666442057bc51a0b6b92400d'), ObjectId('666442057bc51a0b6b92400e'), ObjectId('666442057bc51a0b6b92400f'), ObjectId('666442057bc51a0b6b924010'), ObjectId('666442057bc51a0b6b924011'), ObjectId('666442057bc51a0b6b924012'), ObjectId('666442057bc51a0b6b924013'), ObjectId('666442057bc51a0b6b924014'), ObjectId('666442057bc51a0b6b924015'), ObjectId('666442057bc51a0b6b924016'), ObjectId('666442057bc51a0b6b924017'), ObjectId('666442057bc51a0b6b924018'), ObjectId('666442057bc51a0b6b924019'), ObjectId('666442057bc51a0b6b92401a'), ObjectId('666442057bc51a0b6b92401b'), ObjectId('666442057bc51a0b6b92401c'), ObjectId('666442057bc51a0b6b92401d'), ObjectId('666442057bc51a0b6b92401e'), ObjectId('666442057bc51a0b6b92401f'), ObjectId('666442057bc51a0b6b924020'), ObjectId('666442057bc51a0b6b924021'), ObjectId('666442057bc51a0b6b924022'), ObjectId('666442057bc51a0b6b924023'), ObjectId('666442057bc51a0b6b924024'), ObjectId('666442057bc51a0b6b924025'), ObjectId('666442057bc51a0b6b924026'), ObjectId('666442057bc51a0b6b924027'), ObjectId('666442057bc51a0b6b924028'), ObjectId('666442057bc51a0b6b924029'), ObjectId('666442057bc51a0b6b92402a'), ObjectId('666442057bc51a0b6b92402b'), ObjectId('666442057bc51a0b6b92402c'), ObjectId('666442057bc51a0b6b92402d'), ObjectId('666442057bc51a0b6b92402e'), ObjectId('666442057bc51a0b6b92402f'), ObjectId('666442057bc51a0b6b924030'), ObjectId('666442057bc51a0b6b924031'), ObjectId('666442057bc51a0b6b924032'), ObjectId('666442057bc51a0b6b924033'), ObjectId('666442057bc51a0b6b924034'), ObjectId('666442057bc51a0b6b924035'), ObjectId('666442057bc51a0b6b924036'), ObjectId('666442057bc51a0b6b924037'), ObjectId('666442057bc51a0b6b924038'), ObjectId('666442057bc51a0b6b924039'), ObjectId('666442057bc51a0b6b92403a'), ObjectId('666442057bc51a0b6b92403b'), ObjectId('666442057bc51a0b6b92403c'), ObjectId('666442057bc51a0b6b92403d'), ObjectId('666442057bc51a0b6b92403e'), ObjectId('666442057bc51a0b6b92403f'), ObjectId('666442057bc51a0b6b924040'), ObjectId('666442057bc51a0b6b924041'), ObjectId('666442057bc51a0b6b924042'), ObjectId('666442057bc51a0b6b924043'), ObjectId('666442057bc51a0b6b924044'), ObjectId('666442057bc51a0b6b924045'), ObjectId('666442057bc51a0b6b924046'), ObjectId('666442057bc51a0b6b924047'), ObjectId('666442057bc51a0b6b924048'), ObjectId('666442057bc51a0b6b924049'), ObjectId('666442057bc51a0b6b92404a'), ObjectId('666442057bc51a0b6b92404b'), ObjectId('666442057bc51a0b6b92404c'), ObjectId('666442057bc51a0b6b92404d'), ObjectId('666442057bc51a0b6b92404e')], acknowledged=True)"
     },
     "execution_count": 5,
     "metadata": {},
     "output_type": "execute_result"
    }
   ],
   "source": [
    "# Inserimento dei dati relativi alle responses nel database\n",
    "responses_collection.insert_many([{\"tag\": intent['tag'], \"responses\": intent['responses']} for intent in obj['intents']])"
   ],
   "metadata": {
    "collapsed": false,
    "ExecuteTime": {
     "end_time": "2024-06-08T11:35:33.231403Z",
     "start_time": "2024-06-08T11:35:33.132793Z"
    }
   }
  }
 ],
 "metadata": {
  "kernelspec": {
   "display_name": "Python 3",
   "language": "python",
   "name": "python3"
  },
  "language_info": {
   "codemirror_mode": {
    "name": "ipython",
    "version": 2
   },
   "file_extension": ".py",
   "mimetype": "text/x-python",
   "name": "python",
   "nbconvert_exporter": "python",
   "pygments_lexer": "ipython2",
   "version": "2.7.6"
  }
 },
 "nbformat": 4,
 "nbformat_minor": 0
}
