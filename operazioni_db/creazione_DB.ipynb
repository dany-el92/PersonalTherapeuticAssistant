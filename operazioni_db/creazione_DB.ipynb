{
 "cells": [
  {
   "cell_type": "code",
   "execution_count": 55,
   "metadata": {
    "collapsed": true,
    "ExecuteTime": {
     "end_time": "2024-05-29T19:18:51.179635Z",
     "start_time": "2024-05-29T19:18:51.170806Z"
    }
   },
   "outputs": [],
   "source": [
    "from pymongo import MongoClient\n",
    "import json"
   ]
  },
  {
   "cell_type": "code",
   "execution_count": 56,
   "outputs": [],
   "source": [
    "# Connessione a MongoDB\n",
    "client = MongoClient('mongodb://localhost:27017/')\n",
    "db = client['chatbot_db']\n",
    "patterns_collection = db['patterns']\n",
    "responses_collection = db['responses']"
   ],
   "metadata": {
    "collapsed": false,
    "ExecuteTime": {
     "end_time": "2024-05-29T19:18:51.217903Z",
     "start_time": "2024-05-29T19:18:51.178325Z"
    }
   }
  },
  {
   "cell_type": "code",
   "execution_count": 57,
   "outputs": [],
   "source": [
    "# Caricamento dei dati\n",
    "file_path = '../Dataset/intents_v2.json'\n",
    "with open(file_path, 'r') as f:\n",
    "    data = f.read()\n",
    "\n",
    "obj = json.loads(data)"
   ],
   "metadata": {
    "collapsed": false,
    "ExecuteTime": {
     "end_time": "2024-05-29T19:18:51.227587Z",
     "start_time": "2024-05-29T19:18:51.191042Z"
    }
   }
  },
  {
   "cell_type": "code",
   "execution_count": 58,
   "outputs": [
    {
     "data": {
      "text/plain": "InsertManyResult([ObjectId('66577f9b281d7456b97604da'), ObjectId('66577f9b281d7456b97604db'), ObjectId('66577f9b281d7456b97604dc'), ObjectId('66577f9b281d7456b97604dd'), ObjectId('66577f9b281d7456b97604de'), ObjectId('66577f9b281d7456b97604df'), ObjectId('66577f9b281d7456b97604e0'), ObjectId('66577f9b281d7456b97604e1'), ObjectId('66577f9b281d7456b97604e2'), ObjectId('66577f9b281d7456b97604e3'), ObjectId('66577f9b281d7456b97604e4'), ObjectId('66577f9b281d7456b97604e5'), ObjectId('66577f9b281d7456b97604e6'), ObjectId('66577f9b281d7456b97604e7'), ObjectId('66577f9b281d7456b97604e8'), ObjectId('66577f9b281d7456b97604e9'), ObjectId('66577f9b281d7456b97604ea'), ObjectId('66577f9b281d7456b97604eb'), ObjectId('66577f9b281d7456b97604ec'), ObjectId('66577f9b281d7456b97604ed'), ObjectId('66577f9b281d7456b97604ee'), ObjectId('66577f9b281d7456b97604ef'), ObjectId('66577f9b281d7456b97604f0'), ObjectId('66577f9b281d7456b97604f1'), ObjectId('66577f9b281d7456b97604f2'), ObjectId('66577f9b281d7456b97604f3'), ObjectId('66577f9b281d7456b97604f4'), ObjectId('66577f9b281d7456b97604f5'), ObjectId('66577f9b281d7456b97604f6'), ObjectId('66577f9b281d7456b97604f7'), ObjectId('66577f9b281d7456b97604f8'), ObjectId('66577f9b281d7456b97604f9'), ObjectId('66577f9b281d7456b97604fa'), ObjectId('66577f9b281d7456b97604fb'), ObjectId('66577f9b281d7456b97604fc'), ObjectId('66577f9b281d7456b97604fd'), ObjectId('66577f9b281d7456b97604fe'), ObjectId('66577f9b281d7456b97604ff'), ObjectId('66577f9b281d7456b9760500'), ObjectId('66577f9b281d7456b9760501'), ObjectId('66577f9b281d7456b9760502'), ObjectId('66577f9b281d7456b9760503'), ObjectId('66577f9b281d7456b9760504'), ObjectId('66577f9b281d7456b9760505'), ObjectId('66577f9b281d7456b9760506'), ObjectId('66577f9b281d7456b9760507'), ObjectId('66577f9b281d7456b9760508'), ObjectId('66577f9b281d7456b9760509'), ObjectId('66577f9b281d7456b976050a'), ObjectId('66577f9b281d7456b976050b'), ObjectId('66577f9b281d7456b976050c'), ObjectId('66577f9b281d7456b976050d'), ObjectId('66577f9b281d7456b976050e'), ObjectId('66577f9b281d7456b976050f'), ObjectId('66577f9b281d7456b9760510'), ObjectId('66577f9b281d7456b9760511'), ObjectId('66577f9b281d7456b9760512'), ObjectId('66577f9b281d7456b9760513'), ObjectId('66577f9b281d7456b9760514'), ObjectId('66577f9b281d7456b9760515'), ObjectId('66577f9b281d7456b9760516'), ObjectId('66577f9b281d7456b9760517'), ObjectId('66577f9b281d7456b9760518'), ObjectId('66577f9b281d7456b9760519'), ObjectId('66577f9b281d7456b976051a'), ObjectId('66577f9b281d7456b976051b'), ObjectId('66577f9b281d7456b976051c'), ObjectId('66577f9b281d7456b976051d'), ObjectId('66577f9b281d7456b976051e'), ObjectId('66577f9b281d7456b976051f'), ObjectId('66577f9b281d7456b9760520'), ObjectId('66577f9b281d7456b9760521'), ObjectId('66577f9b281d7456b9760522'), ObjectId('66577f9b281d7456b9760523'), ObjectId('66577f9b281d7456b9760524'), ObjectId('66577f9b281d7456b9760525'), ObjectId('66577f9b281d7456b9760526'), ObjectId('66577f9b281d7456b9760527'), ObjectId('66577f9b281d7456b9760528'), ObjectId('66577f9b281d7456b9760529'), ObjectId('66577f9b281d7456b976052a'), ObjectId('66577f9b281d7456b976052b'), ObjectId('66577f9b281d7456b976052c'), ObjectId('66577f9b281d7456b976052d'), ObjectId('66577f9b281d7456b976052e'), ObjectId('66577f9b281d7456b976052f'), ObjectId('66577f9b281d7456b9760530')], acknowledged=True)"
     },
     "execution_count": 58,
     "metadata": {},
     "output_type": "execute_result"
    }
   ],
   "source": [
    "# Inserimento dei dati relativi ai pattern nel database\n",
    "patterns_collection.insert_many([{\"tag\": intent['tag'], \"patterns\": intent['patterns']} for intent in obj['intents']])"
   ],
   "metadata": {
    "collapsed": false,
    "ExecuteTime": {
     "end_time": "2024-05-29T19:18:51.228661Z",
     "start_time": "2024-05-29T19:18:51.200846Z"
    }
   }
  },
  {
   "cell_type": "code",
   "execution_count": 59,
   "outputs": [
    {
     "data": {
      "text/plain": "InsertManyResult([ObjectId('66577f9b281d7456b9760531'), ObjectId('66577f9b281d7456b9760532'), ObjectId('66577f9b281d7456b9760533'), ObjectId('66577f9b281d7456b9760534'), ObjectId('66577f9b281d7456b9760535'), ObjectId('66577f9b281d7456b9760536'), ObjectId('66577f9b281d7456b9760537'), ObjectId('66577f9b281d7456b9760538'), ObjectId('66577f9b281d7456b9760539'), ObjectId('66577f9b281d7456b976053a'), ObjectId('66577f9b281d7456b976053b'), ObjectId('66577f9b281d7456b976053c'), ObjectId('66577f9b281d7456b976053d'), ObjectId('66577f9b281d7456b976053e'), ObjectId('66577f9b281d7456b976053f'), ObjectId('66577f9b281d7456b9760540'), ObjectId('66577f9b281d7456b9760541'), ObjectId('66577f9b281d7456b9760542'), ObjectId('66577f9b281d7456b9760543'), ObjectId('66577f9b281d7456b9760544'), ObjectId('66577f9b281d7456b9760545'), ObjectId('66577f9b281d7456b9760546'), ObjectId('66577f9b281d7456b9760547'), ObjectId('66577f9b281d7456b9760548'), ObjectId('66577f9b281d7456b9760549'), ObjectId('66577f9b281d7456b976054a'), ObjectId('66577f9b281d7456b976054b'), ObjectId('66577f9b281d7456b976054c'), ObjectId('66577f9b281d7456b976054d'), ObjectId('66577f9b281d7456b976054e'), ObjectId('66577f9b281d7456b976054f'), ObjectId('66577f9b281d7456b9760550'), ObjectId('66577f9b281d7456b9760551'), ObjectId('66577f9b281d7456b9760552'), ObjectId('66577f9b281d7456b9760553'), ObjectId('66577f9b281d7456b9760554'), ObjectId('66577f9b281d7456b9760555'), ObjectId('66577f9b281d7456b9760556'), ObjectId('66577f9b281d7456b9760557'), ObjectId('66577f9b281d7456b9760558'), ObjectId('66577f9b281d7456b9760559'), ObjectId('66577f9b281d7456b976055a'), ObjectId('66577f9b281d7456b976055b'), ObjectId('66577f9b281d7456b976055c'), ObjectId('66577f9b281d7456b976055d'), ObjectId('66577f9b281d7456b976055e'), ObjectId('66577f9b281d7456b976055f'), ObjectId('66577f9b281d7456b9760560'), ObjectId('66577f9b281d7456b9760561'), ObjectId('66577f9b281d7456b9760562'), ObjectId('66577f9b281d7456b9760563'), ObjectId('66577f9b281d7456b9760564'), ObjectId('66577f9b281d7456b9760565'), ObjectId('66577f9b281d7456b9760566'), ObjectId('66577f9b281d7456b9760567'), ObjectId('66577f9b281d7456b9760568'), ObjectId('66577f9b281d7456b9760569'), ObjectId('66577f9b281d7456b976056a'), ObjectId('66577f9b281d7456b976056b'), ObjectId('66577f9b281d7456b976056c'), ObjectId('66577f9b281d7456b976056d'), ObjectId('66577f9b281d7456b976056e'), ObjectId('66577f9b281d7456b976056f'), ObjectId('66577f9b281d7456b9760570'), ObjectId('66577f9b281d7456b9760571'), ObjectId('66577f9b281d7456b9760572'), ObjectId('66577f9b281d7456b9760573'), ObjectId('66577f9b281d7456b9760574'), ObjectId('66577f9b281d7456b9760575'), ObjectId('66577f9b281d7456b9760576'), ObjectId('66577f9b281d7456b9760577'), ObjectId('66577f9b281d7456b9760578'), ObjectId('66577f9b281d7456b9760579'), ObjectId('66577f9b281d7456b976057a'), ObjectId('66577f9b281d7456b976057b'), ObjectId('66577f9b281d7456b976057c'), ObjectId('66577f9b281d7456b976057d'), ObjectId('66577f9b281d7456b976057e'), ObjectId('66577f9b281d7456b976057f'), ObjectId('66577f9b281d7456b9760580'), ObjectId('66577f9b281d7456b9760581'), ObjectId('66577f9b281d7456b9760582'), ObjectId('66577f9b281d7456b9760583'), ObjectId('66577f9b281d7456b9760584'), ObjectId('66577f9b281d7456b9760585'), ObjectId('66577f9b281d7456b9760586'), ObjectId('66577f9b281d7456b9760587')], acknowledged=True)"
     },
     "execution_count": 59,
     "metadata": {},
     "output_type": "execute_result"
    }
   ],
   "source": [
    "# Inserimento dei dati relativi alle responses nel database\n",
    "responses_collection.insert_many([{\"tag\": intent['tag'], \"responses\": intent['responses']} for intent in obj['intents']])"
   ],
   "metadata": {
    "collapsed": false,
    "ExecuteTime": {
     "end_time": "2024-05-29T19:18:51.229160Z",
     "start_time": "2024-05-29T19:18:51.219030Z"
    }
   }
  }
 ],
 "metadata": {
  "kernelspec": {
   "display_name": "Python 3",
   "language": "python",
   "name": "python3"
  },
  "language_info": {
   "codemirror_mode": {
    "name": "ipython",
    "version": 2
   },
   "file_extension": ".py",
   "mimetype": "text/x-python",
   "name": "python",
   "nbconvert_exporter": "python",
   "pygments_lexer": "ipython2",
   "version": "2.7.6"
  }
 },
 "nbformat": 4,
 "nbformat_minor": 0
}
