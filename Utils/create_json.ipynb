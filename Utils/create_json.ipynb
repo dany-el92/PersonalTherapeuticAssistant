{
 "cells": [
  {
   "cell_type": "code",
   "id": "initial_id",
   "metadata": {
    "collapsed": true,
    "ExecuteTime": {
     "end_time": "2024-05-28T14:45:01.216831Z",
     "start_time": "2024-05-28T14:45:01.213599Z"
    }
   },
   "source": "import json",
   "outputs": [],
   "execution_count": 19
  },
  {
   "metadata": {
    "ExecuteTime": {
     "end_time": "2024-05-28T14:45:01.228333Z",
     "start_time": "2024-05-28T14:45:01.224695Z"
    }
   },
   "cell_type": "code",
   "source": [
    "file_path = '../Dataset/intents_v2.json'\n",
    "\n",
    "with open(file_path, 'r') as f:\n",
    "    data = f.read()\n",
    "    \n",
    "# Converte la stringa JSON in un oggetto Python\n",
    "obj = json.loads(data)"
   ],
   "id": "ca5227292aa5cd9c",
   "outputs": [],
   "execution_count": 20
  },
  {
   "metadata": {
    "ExecuteTime": {
     "end_time": "2024-05-28T14:45:01.234231Z",
     "start_time": "2024-05-28T14:45:01.230532Z"
    }
   },
   "cell_type": "code",
   "source": [
    "# Crea una nuova lista di dizionari con solo i campi 'tag' e 'patterns'\n",
    "tag_patterns = [{\"tag\": intent['tag'], \"patterns\": intent['patterns']} for intent in obj['intents']]\n",
    "\n",
    "# Converte la lista di dizionari in una stringa JSON\n",
    "json_data = json.dumps(tag_patterns, indent=4)\n",
    "\n",
    "# Scrive la stringa JSON in un nuovo file\n",
    "with open('../Dataset/tag_patterns.json', 'w') as f:\n",
    "    f.write(json_data)"
   ],
   "id": "7a87b831d4d1c1e3",
   "outputs": [],
   "execution_count": 21
  },
  {
   "metadata": {
    "ExecuteTime": {
     "end_time": "2024-05-28T14:45:01.238840Z",
     "start_time": "2024-05-28T14:45:01.234832Z"
    }
   },
   "cell_type": "code",
   "source": [
    "# Crea una nuova lista di dizionari con solo i campi 'tag' e 'responses'\n",
    "tag_responses = [{\"tag\": intent['tag'], \"responses\": intent['responses']} for intent in obj['intents']]\n",
    "\n",
    "# Converte la lista di dizionari in una stringa JSON\n",
    "json_data = json.dumps(tag_responses, indent=4)\n",
    "\n",
    "# Scrive la stringa JSON in un nuovo file\n",
    "with open('../Dataset/tag_responses.json', 'w') as f:\n",
    "    f.write(json_data)"
   ],
   "id": "5c1af03ed7d7fbab",
   "outputs": [],
   "execution_count": 22
  }
 ],
 "metadata": {
  "kernelspec": {
   "display_name": "Python 3",
   "language": "python",
   "name": "python3"
  },
  "language_info": {
   "codemirror_mode": {
    "name": "ipython",
    "version": 2
   },
   "file_extension": ".py",
   "mimetype": "text/x-python",
   "name": "python",
   "nbconvert_exporter": "python",
   "pygments_lexer": "ipython2",
   "version": "2.7.6"
  }
 },
 "nbformat": 4,
 "nbformat_minor": 5
}
